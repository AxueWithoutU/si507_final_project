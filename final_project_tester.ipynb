{
 "cells": [
  {
   "cell_type": "markdown",
   "metadata": {},
   "source": [
    "## SI507 Final Project: Sentiment Analysis on Subreddit r/Obesity Comments"
   ]
  },
  {
   "cell_type": "markdown",
   "metadata": {},
   "source": [
    "#### Approximate Difficulty\n",
    "- Web API you haven’t used before that requires OAuth: 6\n",
    "    - https://www.reddit.com/dev/api/\n",
    "- Nutrition, Physical Activity, and Obesity - Behavioral Risk Factor Surveillance System Data: 2\n",
    "    - [Data Page](https://catalog.data.gov/dataset/nutrition-physical-activity-and-obesity-behavioral-risk-factor-surveillance-system)\n",
    "\n",
    "- Sentiment analysis --> feed data from tree directly to perform analyses\n",
    "- Networkx => save trees in form of .json data\n",
    "- [PRAW 7.7.1 Documentation](https://praw.readthedocs.io/en/stable/getting_started/quick_start.html)\n",
    "- [Working with Reddit Comment Trees](https://www.reddit.com/r/datasets/s/c34hswA2td)\n",
    "- [Creating Reply Networks from Reddit Comment Threads](https://jrashford.com/2022/01/21/creating-reply-networks-from-reddit-comment-threads/)"
   ]
  },
  {
   "cell_type": "code",
   "execution_count": 1,
   "metadata": {},
   "outputs": [],
   "source": [
    "# imports\n",
    "import praw\n",
    "import networkx as nx\n",
    "import matplotlib.pyplot as plt\n",
    "import json\n",
    "import textwrap\n",
    "import copy\n",
    "import os\n",
    "from datetime import datetime\n",
    "\n",
    "# go to reddit.com/prefs/apps to edit app information\n",
    "# client_id: freedom_or_chemicals\n",
    "# sec_key: SuhVQ8O5zPcQ9qw0BSwGsi5pQn_aBQ\n",
    "# user_agent/APP Name: VnWlWdqCq0If8VbJAqJRzw"
   ]
  },
  {
   "cell_type": "code",
   "execution_count": null,
   "metadata": {},
   "outputs": [],
   "source": [
    "# Initialize the Reddit instance with OAuth2 credentials to access Reddit API\n",
    "\n",
    "reddit = praw.Reddit(\n",
    "    client_id=\"VnWlWdqCq0If8VbJAqJRzw\",\n",
    "    client_secret=\"SuhVQ8O5zPcQ9qw0BSwGsi5pQn_aBQ\",\n",
    "    user_agent=\"script for obesity research 1.0\",\n",
    ")"
   ]
  },
  {
   "cell_type": "markdown",
   "metadata": {},
   "source": [
    "### Scrape Data via Reddit API (don't need to run if JSON files exist)"
   ]
  },
  {
   "cell_type": "code",
   "execution_count": null,
   "metadata": {},
   "outputs": [],
   "source": [
    "# Fetch the top n posts from a given subreddit\n",
    "\n",
    "# top_comment_list = []\n",
    "\n",
    "# # define target subreddit for scraping\n",
    "# subreddit = reddit.subreddit(\"Obesity\")\n",
    "\n",
    "# for submission in subreddit.top(limit=100):\n",
    "#     # append submission info into list\n",
    "#     submission_info = {\"submission_id\": submission.id, \"title\": submission.title}\n",
    "#     top_comment_list.append(submission_info)\n",
    "\n",
    "#     # retrieve any comments that may be collapsed\n",
    "#     submission.comments.replace_more(limit=None)\n",
    "\n",
    "#     # append comments to list that will be nested\n",
    "#     comments_for_submission = []\n",
    "#     for comment in submission.comments.list():\n",
    "#         # only comment body\n",
    "#         # other options\n",
    "#         # .author\n",
    "#         # .score - upvotes or downvotes\n",
    "#         # .parent_id\n",
    "#         comment_info = {\n",
    "#             \"body\": comment.body,\n",
    "#             \"timestamp\": comment.created_utc,\n",
    "#             \"parent\": comment.parent_id,\n",
    "#             \"comment_id\": comment.id\n",
    "#         }\n",
    "#         comments_for_submission.append(comment_info)\n",
    "#     # update last position of the list with nested information\n",
    "#     top_comment_list[-1][\"comments\"] = comments_for_submission\n",
    "\n",
    "# # save scraped contents in json file\n",
    "# with open(\"top_comment_data.json\", \"w\") as json_file:\n",
    "#     json.dump(top_comment_list, json_file, indent=2)"
   ]
  },
  {
   "cell_type": "markdown",
   "metadata": {},
   "source": [
    "*It seems that there are API call limitations, so set the post limit to 100 for now.*"
   ]
  },
  {
   "cell_type": "code",
   "execution_count": null,
   "metadata": {},
   "outputs": [],
   "source": [
    "# # Now fetch the newest n posts from a given subreddit\n",
    "# newest_comment_list = []\n",
    "\n",
    "# # define target subreddit for scraping\n",
    "# subreddit = reddit.subreddit(\"Obesity\")\n",
    "\n",
    "# for submission in subreddit.new(limit=100):\n",
    "#     # append submission info into list\n",
    "#     submission_info = {\"submission_id\": submission.id, \"title\": submission.title}\n",
    "#     newest_comment_list.append(submission_info)\n",
    "\n",
    "#     # retrieve any comments that may be collapsed\n",
    "#     submission.comments.replace_more(limit=None)\n",
    "\n",
    "#     # append comments to list that will be nested\n",
    "#     comments_for_submission = []\n",
    "#     for comment in submission.comments.list():\n",
    "#         # only comment body\n",
    "#         # other options\n",
    "#         # .author\n",
    "#         # .score - upvotes or downvotes\n",
    "#         # .parent_id\n",
    "#         comment_info = {\n",
    "#             \"body\": comment.body,\n",
    "#             \"timestamp\": comment.created_utc,\n",
    "#             \"parent\": comment.parent_id,\n",
    "#         }\n",
    "#         comments_for_submission.append(comment_info)\n",
    "#     # update list item with nested information\n",
    "#     newest_comment_list[-1][\"comments\"] = comments_for_submission\n",
    "\n",
    "# # save scraped contents in json file\n",
    "# with open(\"new_comment_data.json\", \"w\") as json_file:\n",
    "#     json.dump(newest_comment_list, json_file, indent=2)"
   ]
  },
  {
   "cell_type": "markdown",
   "metadata": {},
   "source": [
    "### Create Trees from JSON Data for Each Post"
   ]
  },
  {
   "cell_type": "code",
   "execution_count": 4,
   "metadata": {},
   "outputs": [],
   "source": [
    "def buildCommentHierarchy(comments):\n",
    "    tree = []\n",
    "    di = {}\n",
    "\n",
    "    # create a deep copy of the comments list\n",
    "    comments_copy = copy.deepcopy(comments)\n",
    "\n",
    "    # create a dictionary with key-value pairs using the unique comment IDs as keys\n",
    "    for comment in comments_copy:\n",
    "        di[comment['comment_id']] = comment\n",
    "\n",
    "    for comment in comments_copy:\n",
    "        comment_id = comment['comment_id']\n",
    "        # remove the t3 or t1 prefixes from parent IDs\n",
    "        parent_id = comment['parent'][3:]\n",
    "\n",
    "        # Check if the comment is a top-level comment\n",
    "        # the parents of top-levels posts are the post itself, and therefore not present here\n",
    "        if parent_id not in di:\n",
    "            tree.append(di[comment_id])\n",
    "        else:\n",
    "            parent = di[parent_id]\n",
    "            if \"comments\" not in parent:\n",
    "                parent[\"comments\"] = []\n",
    "            parent[\"comments\"].append(di[comment_id])\n",
    "\n",
    "    return tree"
   ]
  },
  {
   "cell_type": "code",
   "execution_count": 5,
   "metadata": {},
   "outputs": [],
   "source": [
    "# Load JSON data from file\n",
    "with open(\"json_data/top_comment_data.json\", \"r\") as file:\n",
    "    data = json.load(file)"
   ]
  },
  {
   "cell_type": "code",
   "execution_count": 6,
   "metadata": {},
   "outputs": [],
   "source": [
    "# replace the 'comments' part of the data with organized trees\n",
    "for post in data:\n",
    "    post['comments'] = buildCommentHierarchy(post['comments'])"
   ]
  },
  {
   "cell_type": "markdown",
   "metadata": {},
   "source": [
    "### Plot the Tree Structures with NetworkX"
   ]
  },
  {
   "cell_type": "code",
   "execution_count": 7,
   "metadata": {},
   "outputs": [],
   "source": [
    "# eliminate posts with no comments and retain those with 1 or more comments\n",
    "posts_with_comments = [post for post in data if 'comments' in post and post['comments']]"
   ]
  },
  {
   "cell_type": "code",
   "execution_count": 8,
   "metadata": {},
   "outputs": [
    {
     "data": {
      "text/plain": [
       "46"
      ]
     },
     "execution_count": 8,
     "metadata": {},
     "output_type": "execute_result"
    }
   ],
   "source": [
    "# get the number of posts with 1 or more comments\n",
    "len(posts_with_comments)"
   ]
  },
  {
   "cell_type": "code",
   "execution_count": 9,
   "metadata": {},
   "outputs": [],
   "source": [
    "def convert_timestamp(timestamp):\n",
    "    return datetime.utcfromtimestamp(timestamp).strftime('%Y-%m-%d')\n",
    "\n",
    "def splitTitle(title, max_width=75):\n",
    "    '''breaks up post titles that are too long\n",
    "    '''\n",
    "    # Use textwrap to wrap the title at spaces\n",
    "    wrapped_title = textwrap.fill(title, width=max_width)\n",
    "    return wrapped_title"
   ]
  },
  {
   "cell_type": "code",
   "execution_count": 10,
   "metadata": {},
   "outputs": [],
   "source": [
    "def add_nodes_and_edges(G, comment):\n",
    "    # Recursively add nodes and edges for comments and their replies\n",
    "    for reply in comment.get(\"comments\", []):\n",
    "        G.add_node(reply[\"comment_id\"], label=convert_timestamp(reply[\"timestamp\"]), color=\"cadetblue\")  # Set other nodes color to blue\n",
    "        G.add_edge(comment[\"comment_id\"], reply[\"comment_id\"])\n",
    "        add_nodes_and_edges(G, reply)"
   ]
  },
  {
   "cell_type": "code",
   "execution_count": 15,
   "metadata": {},
   "outputs": [],
   "source": [
    "def plotGraph(post_data):\n",
    "    G = nx.DiGraph()\n",
    "\n",
    "    # add root node for the post\n",
    "    root_id = post_data[\"submission_id\"]\n",
    "    G.add_node(root_id, label=root_id, color=\"palevioletred\")  # set root node color to red\n",
    "\n",
    "    # add edges from the post to top-level comments\n",
    "    for comment in post_data.get(\"comments\", []):\n",
    "        # set color for nodes surrounding root node\n",
    "        G.add_node(comment[\"comment_id\"], label=convert_timestamp(comment[\"timestamp\"]), color=\"cadetblue\")\n",
    "        G.add_edge(root_id, comment[\"comment_id\"])\n",
    "        add_nodes_and_edges(G, comment)\n",
    "\n",
    "    # plot graph, ADJUST LAYOUT HERE\n",
    "    pos = nx.planar_layout(G)\n",
    "\n",
    "    # get node colors based on 'color' attribute\n",
    "    node_colors = [G.nodes[node][\"color\"] for node in G.nodes]\n",
    "\n",
    "    # get node labels based on 'label' attribute\n",
    "    node_labels = {node: G.nodes[node][\"label\"] for node in G.nodes}\n",
    "\n",
    "    nx.draw(\n",
    "        G,\n",
    "        pos,\n",
    "        labels=node_labels,\n",
    "        with_labels=True,\n",
    "        font_size=8,\n",
    "        node_size=700,\n",
    "        font_color=\"black\",\n",
    "        node_color=node_colors,\n",
    "        edge_color=\"gray\",\n",
    "        font_weight=\"bold\",\n",
    "    )\n",
    "\n",
    "    # Save the plot with the post title\n",
    "    plt.title(splitTitle(post_data[\"title\"]))\n",
    "    folder_path = \"plot_graphs\"\n",
    "    os.makedirs(folder_path, exist_ok=True)  # Create the folder if it doesn't exist\n",
    "    file_path = os.path.join(folder_path, f\"{post_data['submission_id']}_graph.png\")\n",
    "    print(file_path)\n",
    "    # plt.savefig(file_path)\n",
    "    plt.show()\n",
    "    plt.show()"
   ]
  },
  {
   "cell_type": "code",
   "execution_count": 24,
   "metadata": {},
   "outputs": [
    {
     "name": "stdout",
     "output_type": "stream",
     "text": [
      "plot_graphs\\4yfcta_graph.png\n"
     ]
    },
    {
     "data": {
      "image/png": "[encoded data removed]",
      "text/plain": [
       "<Figure size 640x480 with 1 Axes>"
      ]
     },
     "metadata": {},
     "output_type": "display_data"
    }
   ],
   "source": [
    "plotGraph(posts_with_comments[13])"
   ]
  }
 ],
 "metadata": {
  "kernelspec": {
   "display_name": "Python 3",
   "language": "python",
   "name": "python3"
  },
  "language_info": {
   "codemirror_mode": {
    "name": "ipython",
    "version": 3
   },
   "file_extension": ".py",
   "mimetype": "text/x-python",
   "name": "python",
   "nbconvert_exporter": "python",
   "pygments_lexer": "ipython3",
   "version": "3.10.11"
  }
 },
 "nbformat": 4,
 "nbformat_minor": 2
}
