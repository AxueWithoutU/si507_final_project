{
 "cells": [
  {
   "cell_type": "markdown",
   "metadata": {},
   "source": [
    "## SI507 Final Project: Sentiment Analysis on Subreddit r/Obesity Comments"
   ]
  },
  {
   "cell_type": "markdown",
   "metadata": {},
   "source": [
    "#### Approximate Difficulty\n",
    "- Web API you haven’t used before that requires OAuth: 6\n",
    "    - https://www.reddit.com/dev/api/\n",
    "- Nutrition, Physical Activity, and Obesity - Behavioral Risk Factor Surveillance System Data: 2\n",
    "    - [Data Page](https://catalog.data.gov/dataset/nutrition-physical-activity-and-obesity-behavioral-risk-factor-surveillance-system)\n",
    "\n",
    "- Sentiment analysis --> feed data from tree directly to perform analyses\n",
    "- Networkx => save trees in form of .json data\n",
    "- [PRAW 7.7.1 Documentation](https://praw.readthedocs.io/en/stable/getting_started/quick_start.html)\n",
    "- [Working with Reddit Comment Trees](https://www.reddit.com/r/datasets/s/c34hswA2td)\n",
    "- [Creating Reply Networks from Reddit Comment Threads](https://jrashford.com/2022/01/21/creating-reply-networks-from-reddit-comment-threads/)"
   ]
  },
  {
   "cell_type": "code",
   "execution_count": 1,
   "metadata": {},
   "outputs": [],
   "source": [
    "# imports\n",
    "import praw\n",
    "import networkx as nx\n",
    "import matplotlib.pyplot as plt\n",
    "import json\n",
    "import textwrap\n",
    "import copy\n",
    "from datetime import datetime\n",
    "\n",
    "# go to reddit.com/prefs/apps to edit app information\n",
    "# client_id: freedom_or_chemicals\n",
    "# sec_key: SuhVQ8O5zPcQ9qw0BSwGsi5pQn_aBQ\n",
    "# user_agent/APP Name: VnWlWdqCq0If8VbJAqJRzw"
   ]
  },
  {
   "cell_type": "code",
   "execution_count": null,
   "metadata": {},
   "outputs": [],
   "source": [
    "# Initialize the Reddit instance with OAuth2 credentials to access Reddit API\n",
    "\n",
    "reddit = praw.Reddit(\n",
    "    client_id=\"VnWlWdqCq0If8VbJAqJRzw\",\n",
    "    client_secret=\"SuhVQ8O5zPcQ9qw0BSwGsi5pQn_aBQ\",\n",
    "    user_agent=\"script for obesity research 1.0\",\n",
    ")"
   ]
  },
  {
   "cell_type": "markdown",
   "metadata": {},
   "source": [
    "### Scrape Data via Reddit API (don't need to run if JSON files exist)"
   ]
  },
  {
   "cell_type": "code",
   "execution_count": null,
   "metadata": {},
   "outputs": [],
   "source": [
    "# Fetch the top n posts from a given subreddit\n",
    "\n",
    "# top_comment_list = []\n",
    "\n",
    "# # define target subreddit for scraping\n",
    "# subreddit = reddit.subreddit(\"Obesity\")\n",
    "\n",
    "# for submission in subreddit.top(limit=100):\n",
    "#     # append submission info into list\n",
    "#     submission_info = {\"submission_id\": submission.id, \"title\": submission.title}\n",
    "#     top_comment_list.append(submission_info)\n",
    "\n",
    "#     # retrieve any comments that may be collapsed\n",
    "#     submission.comments.replace_more(limit=None)\n",
    "\n",
    "#     # append comments to list that will be nested\n",
    "#     comments_for_submission = []\n",
    "#     for comment in submission.comments.list():\n",
    "#         # only comment body\n",
    "#         # other options\n",
    "#         # .author\n",
    "#         # .score - upvotes or downvotes\n",
    "#         # .parent_id\n",
    "#         comment_info = {\n",
    "#             \"body\": comment.body,\n",
    "#             \"timestamp\": comment.created_utc,\n",
    "#             \"parent\": comment.parent_id,\n",
    "#             \"comment_id\": comment.id\n",
    "#         }\n",
    "#         comments_for_submission.append(comment_info)\n",
    "#     # update last position of the list with nested information\n",
    "#     top_comment_list[-1][\"comments\"] = comments_for_submission\n",
    "\n",
    "# # save scraped contents in json file\n",
    "# with open(\"top_comment_data.json\", \"w\") as json_file:\n",
    "#     json.dump(top_comment_list, json_file, indent=2)"
   ]
  },
  {
   "cell_type": "markdown",
   "metadata": {},
   "source": [
    "*It seems that there are API call limitations, so set the post limit to 100 for now.*"
   ]
  },
  {
   "cell_type": "code",
   "execution_count": null,
   "metadata": {},
   "outputs": [],
   "source": [
    "# # Now fetch the newest n posts from a given subreddit\n",
    "# newest_comment_list = []\n",
    "\n",
    "# # define target subreddit for scraping\n",
    "# subreddit = reddit.subreddit(\"Obesity\")\n",
    "\n",
    "# for submission in subreddit.new(limit=100):\n",
    "#     # append submission info into list\n",
    "#     submission_info = {\"submission_id\": submission.id, \"title\": submission.title}\n",
    "#     newest_comment_list.append(submission_info)\n",
    "\n",
    "#     # retrieve any comments that may be collapsed\n",
    "#     submission.comments.replace_more(limit=None)\n",
    "\n",
    "#     # append comments to list that will be nested\n",
    "#     comments_for_submission = []\n",
    "#     for comment in submission.comments.list():\n",
    "#         # only comment body\n",
    "#         # other options\n",
    "#         # .author\n",
    "#         # .score - upvotes or downvotes\n",
    "#         # .parent_id\n",
    "#         comment_info = {\n",
    "#             \"body\": comment.body,\n",
    "#             \"timestamp\": comment.created_utc,\n",
    "#             \"parent\": comment.parent_id,\n",
    "#         }\n",
    "#         comments_for_submission.append(comment_info)\n",
    "#     # update list item with nested information\n",
    "#     newest_comment_list[-1][\"comments\"] = comments_for_submission\n",
    "\n",
    "# # save scraped contents in json file\n",
    "# with open(\"new_comment_data.json\", \"w\") as json_file:\n",
    "#     json.dump(newest_comment_list, json_file, indent=2)"
   ]
  },
  {
   "cell_type": "markdown",
   "metadata": {},
   "source": [
    "### Create Trees from JSON Data for Each Post"
   ]
  },
  {
   "cell_type": "code",
   "execution_count": null,
   "metadata": {},
   "outputs": [],
   "source": [
    "# DON'T TOUCH FOR NOW\n",
    "def buildCommentHierarchy(submission):\n",
    "    '''takes the data of a single reddit post and formats it so it can be parsed and plotted.\n",
    "       This is done by checking the parent ID and comment ID of each comment (or lack thereof).\n",
    "    '''\n",
    "    submission_id = submission[\"submission_id\"]\n",
    "    title = submission[\"title\"]\n",
    "    comments = submission[\"comments\"]\n",
    "\n",
    "    # create a dictionary to store comments by their IDs\n",
    "    comment_dict = {comment[\"comment_id\"]: comment for comment in comments}\n",
    "\n",
    "    # create a dictionary to store hierarchies (for top-level comments)\n",
    "    hierarchy = {\"submission_id\": submission_id, \"title\": title, \"comments\": {}}\n",
    "\n",
    "    # # Iterate over comments to build the hierarchy\n",
    "    # for comment in comments:\n",
    "    #     comment_id = comment[\"comment_id\"]\n",
    "    #     parent_id = comment.get(\"parent\", None)\n",
    "\n",
    "    #     # If the comment has no parent or its parent is the post itself, it's a top-level comment\n",
    "    #     if parent_id is None or parent_id == \"t3_\" + submission_id:\n",
    "    #         hierarchy[\"comments\"][comment_id] = {\"data\": comment, \"replies\": {}}\n",
    "    #     else:\n",
    "    #         # If the parent is already in the hierarchy, add the comment as a reply\n",
    "    #         if parent_id in hierarchy[\"comments\"]:\n",
    "    #             parent_comment = hierarchy[\"comments\"][parent_id]\n",
    "    #             # Check if 'replies' key exists, if not, create it\n",
    "    #             if \"replies\" not in parent_comment:\n",
    "    #                 parent_comment[\"replies\"] = {}\n",
    "    #             parent_comment[\"replies\"][comment_id] = {\"data\": comment, \"replies\": {}}\n",
    "    #         else:\n",
    "    #             # If the parent is not in the hierarchy, add both parent and comment\n",
    "    #             parent_id_without_prefix = parent_id.replace(\"t1_\", \"\")\n",
    "    #             parent_comment = comment_dict.get(parent_id_without_prefix, None)\n",
    "    #             if parent_comment is not None:\n",
    "    #                 hierarchy[\"comments\"][parent_id_without_prefix] = {\n",
    "    #                     \"data\": parent_comment,\n",
    "    #                     \"replies\": {comment_id: {\"data\": comment, \"replies\": {}}},\n",
    "    #                 }\n",
    "\n",
    "    return hierarchy"
   ]
  },
  {
   "cell_type": "code",
   "execution_count": 2,
   "metadata": {},
   "outputs": [],
   "source": [
    "def buildCommentHierarchy(comments):\n",
    "    tree = []\n",
    "    di = {}\n",
    "\n",
    "    # create a deep copy of the comments list\n",
    "    comments_copy = copy.deepcopy(comments)\n",
    "\n",
    "    # create a dictionary with key-value pairs using the unique comment IDs as keys\n",
    "    for comment in comments_copy:\n",
    "        di[comment['comment_id']] = comment\n",
    "\n",
    "    for comment in comments_copy:\n",
    "        comment_id = comment['comment_id']\n",
    "        parent_id = comment['parent'][3:]  # remove 't3_' from parent ID\n",
    "\n",
    "        # Check if the comment is a top-level comment\n",
    "        if parent_id not in di:\n",
    "            tree.append(di[comment_id])\n",
    "        else:\n",
    "            parent = di[parent_id]\n",
    "            if \"comments\" not in parent:\n",
    "                parent[\"comments\"] = []\n",
    "            parent[\"comments\"].append(di[comment_id])\n",
    "\n",
    "    return tree"
   ]
  },
  {
   "cell_type": "code",
   "execution_count": 3,
   "metadata": {},
   "outputs": [],
   "source": [
    "# Load JSON data from file\n",
    "with open(\"json_data/top_comment_data.json\", \"r\") as file:\n",
    "    data = json.load(file)"
   ]
  },
  {
   "cell_type": "code",
   "execution_count": 10,
   "metadata": {},
   "outputs": [],
   "source": [
    "# replace the 'comments' part of the data with organized trees\n",
    "for post in data:\n",
    "    post['comments'] = buildCommentHierarchy(post['comments'])"
   ]
  },
  {
   "cell_type": "code",
   "execution_count": null,
   "metadata": {},
   "outputs": [],
   "source": [
    "\n",
    "all_comment_trees = []\n",
    "for p in data:\n",
    "    all_comment_trees.append(buildCommentHierarchy(p))"
   ]
  },
  {
   "cell_type": "markdown",
   "metadata": {},
   "source": [
    "### Plot the Tree Structures with NetworkX"
   ]
  },
  {
   "cell_type": "code",
   "execution_count": null,
   "metadata": {},
   "outputs": [],
   "source": [
    "posts_with_comments = [post for post in all_comment_trees if 'comments' in post and post['comments']]"
   ]
  },
  {
   "cell_type": "code",
   "execution_count": null,
   "metadata": {},
   "outputs": [],
   "source": [
    "def convert_timestamp(timestamp):\n",
    "    return datetime.utcfromtimestamp(timestamp).strftime('%Y-%m-%d')\n",
    "\n",
    "def splitTitle(title, max_width=75):\n",
    "    '''breaks up post titles that are too long\n",
    "    '''\n",
    "    # Use textwrap to wrap the title at spaces\n",
    "    wrapped_title = textwrap.fill(title, width=max_width)\n",
    "    return wrapped_title"
   ]
  },
  {
   "cell_type": "code",
   "execution_count": null,
   "metadata": {},
   "outputs": [],
   "source": [
    "def addReplies(G, parent_id, replies_data, parent_timestamp):\n",
    "    for reply_id, reply_data in replies_data.items():\n",
    "        label = convert_timestamp(reply_data.get('data', {}).get('timestamp', parent_timestamp))\n",
    "        G.add_node(reply_id, label=label)\n",
    "        G.add_edge(parent_id, reply_id)  # Connect parent to replies\n",
    "        addReplies(G, reply_id, reply_data.get('replies', {}), parent_timestamp)"
   ]
  },
  {
   "cell_type": "code",
   "execution_count": null,
   "metadata": {},
   "outputs": [],
   "source": [
    "def plotGraph(submission):\n",
    "    G = nx.DiGraph()\n",
    "\n",
    "    submission_id = submission['submission_id']\n",
    "    title = submission['title']\n",
    "    comments = submission['comments']\n",
    "\n",
    "    for comment_id, comment_data in comments.items():\n",
    "        if comment_id != 'data':\n",
    "            # label = convert_timestamp(comment_data.get('data', {}).get('timestamp', 0))\n",
    "            label = comment_id\n",
    "            G.add_node(comment_id, label=label)\n",
    "            G.add_edge(submission_id, comment_id)  # Connect submission to comments\n",
    "            addReplies(G, comment_id, comment_data.get('replies', {}), comment_data.get('data', {}).get('timestamp', 0))\n",
    "\n",
    "    pos = nx.spring_layout(G)\n",
    "    labels = nx.get_edge_attributes(G, 'label')\n",
    "    node_labels = nx.get_node_attributes(G, 'label')\n",
    "\n",
    "    nx.draw(G, pos, with_labels=True, labels=node_labels, font_weight='bold')\n",
    "    nx.draw_networkx_edge_labels(G, pos, edge_labels=labels)\n",
    "    plt.title(f\"Post ID: {submission_id}\\nPost Title: {splitTitle(title)}\")\n",
    "    plt.show()"
   ]
  },
  {
   "cell_type": "code",
   "execution_count": null,
   "metadata": {},
   "outputs": [],
   "source": [
    "for p in posts_with_comments:\n",
    "    plotGraph(p)"
   ]
  },
  {
   "cell_type": "code",
   "execution_count": null,
   "metadata": {},
   "outputs": [],
   "source": [
    "plotGraph(posts_with_comments[2])"
   ]
  },
  {
   "cell_type": "code",
   "execution_count": null,
   "metadata": {},
   "outputs": [],
   "source": [
    "# node_colors = ['hotpink' if isinstance(node, str) else 'skyblue' for node in reddit_tree.nodes]"
   ]
  }
 ],
 "metadata": {
  "kernelspec": {
   "display_name": "Python 3",
   "language": "python",
   "name": "python3"
  },
  "language_info": {
   "codemirror_mode": {
    "name": "ipython",
    "version": 3
   },
   "file_extension": ".py",
   "mimetype": "text/x-python",
   "name": "python",
   "nbconvert_exporter": "python",
   "pygments_lexer": "ipython3",
   "version": "3.10.11"
  }
 },
 "nbformat": 4,
 "nbformat_minor": 2
}
